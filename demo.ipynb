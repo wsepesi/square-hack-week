{
 "cells": [
  {
   "cell_type": "code",
   "execution_count": null,
   "metadata": {},
   "outputs": [],
   "source": [
    "model_name = \"nous-hermes-13b.ggmlv3.q4_0.bin\""
   ]
  },
  {
   "cell_type": "code",
   "execution_count": null,
   "metadata": {},
   "outputs": [],
   "source": [
    "prompt = f\"\"\"### Instruction:\n",
    "    You are an intelligent question answering agent. You answer questions politely, concisely, and factually, using the resources available to you. You operate through a series of actions, which determine how you proceed through your problem solving process. These are:\n",
    "    - THINK: Reflect on the current information you have and decide what to do next.\n",
    "    - SEARCH: Search for relevant information in your knowledge base. Takes an input of a query string and returns a list of the text of relevant documents.\n",
    "    - STUDY: Study the information you have found and formulate an intermediate answer.\n",
    "    - ANSWER: Answer the user's question.\n",
    "\n",
    "    You will proceed as follows: You will be provided with an input, and then you can take one of the above ACTIONs, followed by an END keyword to take the action. Depending on the action, you may then need to provide an input. You will then be provided with a response, and then you can take another ACTION. You will continue this process until you are confident you have answered the user's question. \n",
    "\n",
    "    ### Input:\n",
    "    Who is Leo DiCaprio's girlfriend? What is her age times 2?\n",
    "\n",
    "    ### Response:\n",
    "    THINK: I need to find out who Leo DiCaprio's girlfriend is. END\n",
    "    ACTION: SEARCH\n",
    "    ACTION INPUT: \"Leo DiCaprio girlfriend\" END\n",
    "    RESULT: In 1999, DiCaprio met Brazilian model Gisele Bündchen, whom he dated until 2005.[316] He was romantically involved with Israeli model Bar Refaeli from 2005 to 2011. He later dated German fashion model Toni Garrn from 2013 to 2014 and later in 2017.[317] DiCaprio is in a relationship with American model and actress Camila Morrone from c. 2017.[318]\n",
    "    STUDY: Camila Morrone is Leo DiCaprio's girlfriend. END\n",
    "    THINK: I need to find out Camila Morrone's age. END\n",
    "    ACTION: Search\n",
    "    ACTION INPUT: \"Camila Morrone age\" END\n",
    "    RESULT: Camila Rebeca Morrone Polak[3] (born June 16, 1997)[4] is an American model and actress. She is the daughter of actors Maximo Morrone and Lucila Polak; and was also raised by actor Al Pacino (who served as a parental figure during his long-term partnership with Polak).[5][6] She began her career as a model in the Victoria's Secret lookbook, and later walked the runway for Moschino.[7] \n",
    "    STUDY: 26 years END\n",
    "    THINK: I need to calculate 26 times 2. END\n",
    "    OBSERVATION: 52\n",
    "    THINK: I now know the final answer. END\n",
    "    ANSWER: Camila Morrone is Leo DiCaprio's girlfriend and her current age times 2 is 52.\n",
    "    \n",
    "    ### Input:\n",
    "    Who is the 14th President of the US?\n",
    "    \"\"\""
   ]
  },
  {
   "cell_type": "code",
   "execution_count": null,
   "metadata": {},
   "outputs": [],
   "source": [
    "from gpt4all import GPT4All\n",
    "model = GPT4All(model_name)\n"
   ]
  },
  {
   "cell_type": "code",
   "execution_count": null,
   "metadata": {},
   "outputs": [],
   "source": [
    "tokens = []\n",
    "for token in model.generate(prompt, streaming=True):\n",
    "    tokens.append(token)\n",
    "    print(token)\n",
    "print(tokens)"
   ]
  },
  {
   "cell_type": "code",
   "execution_count": null,
   "metadata": {},
   "outputs": [],
   "source": [
    "''.join(tokens)"
   ]
  },
  {
   "cell_type": "code",
   "execution_count": null,
   "metadata": {},
   "outputs": [],
   "source": []
  },
  {
   "cell_type": "code",
   "execution_count": null,
   "metadata": {},
   "outputs": [],
   "source": []
  },
  {
   "attachments": {},
   "cell_type": "markdown",
   "metadata": {},
   "source": [
    "## vector db tests"
   ]
  },
  {
   "cell_type": "code",
   "execution_count": null,
   "metadata": {},
   "outputs": [],
   "source": [
    "from vlite import VLite"
   ]
  },
  {
   "cell_type": "code",
   "execution_count": null,
   "metadata": {},
   "outputs": [],
   "source": [
    "# read in text as a string from data/priv_guide.txt\n",
    "\n",
    "with open(\"data/priv_guide.txt\", \"r\") as f:\n",
    "    text = f.read()"
   ]
  },
  {
   "cell_type": "code",
   "execution_count": null,
   "metadata": {},
   "outputs": [],
   "source": [
    "from dummy_chunker import naive_chunking\n",
    "\n",
    "chunks = naive_chunking(text)"
   ]
  },
  {
   "cell_type": "code",
   "execution_count": null,
   "metadata": {},
   "outputs": [],
   "source": [
    "db = VLite()\n",
    "\n",
    "db.memorize(chunks)"
   ]
  },
  {
   "cell_type": "code",
   "execution_count": null,
   "metadata": {},
   "outputs": [],
   "source": [
    "db.remember(\"confidential personal data\")"
   ]
  },
  {
   "cell_type": "code",
   "execution_count": null,
   "metadata": {},
   "outputs": [],
   "source": []
  }
 ],
 "metadata": {
  "kernelspec": {
   "display_name": "hack",
   "language": "python",
   "name": "python3"
  },
  "language_info": {
   "codemirror_mode": {
    "name": "ipython",
    "version": 3
   },
   "file_extension": ".py",
   "mimetype": "text/x-python",
   "name": "python",
   "nbconvert_exporter": "python",
   "pygments_lexer": "ipython3",
   "version": "3.11.4"
  },
  "orig_nbformat": 4
 },
 "nbformat": 4,
 "nbformat_minor": 2
}
